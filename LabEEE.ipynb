{
 "cells": [
  {
   "cell_type": "markdown",
   "metadata": {
    "id": "04PmjXwf-Rwq"
   },
   "source": [
    "# Bibliotecas usadas"
   ]
  },
  {
   "cell_type": "code",
   "execution_count": 1,
   "metadata": {
    "id": "Q2tcc8yH-FpN"
   },
   "outputs": [
    {
     "ename": "ModuleNotFoundError",
     "evalue": "No module named 'pandas'",
     "output_type": "error",
     "traceback": [
      "\u001b[1;31m---------------------------------------------------------------------------\u001b[0m",
      "\u001b[1;31mModuleNotFoundError\u001b[0m                       Traceback (most recent call last)",
      "Cell \u001b[1;32mIn[1], line 1\u001b[0m\n\u001b[1;32m----> 1\u001b[0m \u001b[38;5;28;01mimport\u001b[39;00m \u001b[38;5;21;01mpandas\u001b[39;00m \u001b[38;5;28;01mas\u001b[39;00m \u001b[38;5;21;01mpd\u001b[39;00m\n\u001b[0;32m      2\u001b[0m \u001b[38;5;28;01mimport\u001b[39;00m \u001b[38;5;21;01mglob\u001b[39;00m\n\u001b[0;32m      3\u001b[0m \u001b[38;5;28;01mimport\u001b[39;00m \u001b[38;5;21;01mre\u001b[39;00m\n",
      "\u001b[1;31mModuleNotFoundError\u001b[0m: No module named 'pandas'"
     ]
    }
   ],
   "source": [
    "import pandas as pd\n",
    "import glob\n",
    "import re\n",
    "from datetime import datetime, timedelta"
   ]
  },
  {
   "cell_type": "markdown",
   "metadata": {
    "id": "pauRK7Fl-Ybr"
   },
   "source": [
    "# Importar bases"
   ]
  },
  {
   "cell_type": "code",
   "execution_count": 215,
   "metadata": {
    "colab": {
     "base_uri": "https://localhost:8080/"
    },
    "id": "gAAhzRi7QHyS",
    "outputId": "26a198cd-5c10-417e-aad7-7930d5c9427e"
   },
   "outputs": [
    {
     "name": "stdout",
     "output_type": "stream",
     "text": [
      "520\n"
     ]
    }
   ],
   "source": [
    "# localizar todos os arquivos csv dos experimentos\n",
    "padrao_busca = \"/Users/michi/Desktop/01. Outdoor-Indoor/01. LabEEE Experiments/**/*.csv\"\n",
    "todos_arquivos = glob.glob(padrao_busca, recursive=True)\n",
    "\n",
    "# filtra os arquivos de interesse\n",
    "ids = [\"IS\", \"LG\", \"LM\", \"MF\", \"TM\", \"ZM\", \"AW\", \"JF\", \"JP\", \"MN\", \"NC\", \"RM\"]\n",
    "nao = [\"01. Pilot LabEEE 20231114\", \"02. Pilot LabEEE 20231122\"]\n",
    "arquivos_csv = [arquivo for arquivo in todos_arquivos if any(sigla in arquivo for sigla in ids) and not any(nome in arquivo for nome in nao)]\n",
    "\n",
    "print(len(arquivos_csv))"
   ]
  },
  {
   "cell_type": "code",
   "execution_count": 216,
   "metadata": {},
   "outputs": [],
   "source": [
    "relacao_tabela_informacao = {\"A\" :\t[\"4B00000069A8E941\",\"FE00000069AF1041\",\"B600000069B23241\",\"7D00000069AB4641\",\"0F00000069AAAF41\",\"C400000069ADCC41\"],\n",
    "                            \"D\":\t[\"CB00000069AD3041\",\"9400000069AA4941\",\"2700000069AD8541\",\"C100000069B26141\",\"CA00000069B19041\",\"4A00000069AC0841\"],\n",
    "                            \"F\":\t[\"C400000069AA8341\",\"C400000069B3DB41\",\"8100000069AE1641\",\"2700000069AACA41\",\"6700000069AEFC41\"\t\"1C00000069B3F941\"], \n",
    "                            \"H\":\t[\"B200000069AE3141\",\"EC00000069A9CD41\",\"3300000069AC2241\",\"3600000069AAD741\",\"E800000069AAC041\",\"AD00000069AF4C41\"],\n",
    "                            \"J\":\t[\"FA00000069AD0441\",\"3400000069B1AE41\",\"C700000069B34D41\",\"4B00000069B0A841\",\"0600000069B22741\",\"9100000069AAEA41\",\"6700000069AB8141\"],\n",
    "                            \"K\":\t[\"FB00000069B28F41\",\"7B00000069AA6A41\",\"E500000069AA2F41\",\"1A00000069A9BF41\",\"FE00000069B10741\",\"E100000069AD4641\"],\n",
    "                            \"M\":\t[\"1B00000069B06241\",\"8C00000069ADD241\",\"F000000069AF6941\",\"AA00000069AA8141\",\"1600000069ABE741\",\"A000000069AEBA41\"],\n",
    "                            \"O\":\t[\"7600000069AA8541\",\"F200000069B16D41\",\"3000000069A9C941\",\"BF00000069AFC741\",\"A300000069B12241\",\"D900000069ACA241\"],\n",
    "                            \"Q\":\t[\"8600000069B0B141\",\"6000000069AB3141\",\"DB00000069A9CC41\",\"EF00000069B23141\",\"6900000069AE8541\",\"4300000069B3CF41\"],\n",
    "                            \"T\":\t[\"7600000069AB9C41\",\"4500000069B1C841\",\"6600000069B25C41\",\"A200000069B0BE41\",\"D700000069B3D541\",\"9800000069B26241\",\"9E00000069AE7241\"],\n",
    "                            \"T_RH\" : [\"6E0000006CB57E41\",\t\"590000006CB46641\",\t\"4B0000006CBA7341\",\t\"D30000006CBD4C41\",\t\"370000006341C241\",\t\"9C000000633F9F41\"]}\n",
    "\n",
    "\n",
    "nomes = [\"Zac\", \"Joao\", \"Igor\", \"Luis\", \"Milena\", \"Ana\", \"Marcela\", \"Nathalia\", \"Thalita\", \"Liege\", \"Rayner\", \"João\"]\n",
    "sports = [\"WALKING\",\"CYCLING\",\"CROSS-COUNTRY_SKIING\",\"SKATING\",\"RIDING\",\"ROWING\"]"
   ]
  },
  {
   "cell_type": "code",
   "execution_count": 217,
   "metadata": {},
   "outputs": [],
   "source": [
    "def verifica_qual_tipo_de_csv(titulo):\n",
    "    for chave, valores in relacao_tabela_informacao.items():\n",
    "        if titulo in valores:\n",
    "            return chave\n",
    "\n",
    "def convertepfloat(row):\n",
    "    n1 = str(row.iloc[2]).replace('.', '')\n",
    "    n2 = str(row.iloc[3]).replace('.', '')\n",
    "    return float(n1 + '.' + n2)\n",
    "\n",
    "def datamento(base_de_dados_crua, base_de_dados_nova):\n",
    "    dia = base_de_dados_crua.iloc[0,2]\n",
    "    dia = dia.replace('-','/')\n",
    "    hora_inicio = base_de_dados_crua.iloc[0,3]\n",
    "    data_inicio = dia + \" \" + hora_inicio\n",
    "    data_inicio = datetime.strptime(data_inicio, '%d/%m/%Y %H:%M:%S')\n",
    "    data_fim = dia + ' ' + '20:00:00'\n",
    "    data_fim = datetime.strptime(data_fim, '%d/%m/%Y %H:%M:%S')\n",
    "    intervalos_tempo = pd.date_range(start=data_inicio, end=data_fim, freq='s')\n",
    "    base_de_dados_nova['Date'] = intervalos_tempo[:len(base_de_dados_nova)]\n",
    "\n",
    "def limpeza_simples(id, arquivo, coluna):\n",
    "    colunas = [\"Date\", \"uni\", \"u\", \"d\"]\n",
    "    dados = pd.read_csv(arquivo, skiprows=20,names=colunas).fillna('0')\n",
    "    dados['id'] = id\n",
    "    dados[f'{coluna}'] = dados.apply(lambda row: convertepfloat(row), axis=1)\n",
    "    dados = dados.iloc[:, [0,-2,-1]]\n",
    "    dados['Date'] = pd.to_datetime(dados['Date'], format='%d/%m/%y %H:%M:%S')\n",
    "    return dados\n",
    "\n",
    "def calcular_TPond(row):\n",
    "    if all(row[['A (°C)', 'D (°C)', 'F (°C)', 'H (°C)', 'J (°C)', 'K (°C)', 'M (°C)', 'O (°C)', 'Q (°C)', 'T (°C)']].notnull()):\n",
    "        return 0.07 * row['T (°C)'] + 0.13 * row['Q (°C)'] + 0.19 * row['O (°C)'] + 0.12 * row['M (°C)'] + 0.12 * row['K (°C)'] + 0.12 * row['J (°C)'] + 0.05 * row['H (°C)'] + 0.06 * row['F (°C)'] + 0.08 * row['D (°C)'] + 0.06 * row['A (°C)']\n",
    "    else:\n",
    "        return None"
   ]
  },
  {
   "cell_type": "code",
   "execution_count": 218,
   "metadata": {
    "colab": {
     "base_uri": "https://localhost:8080/"
    },
    "id": "FY756p1DAJs9",
    "outputId": "b8de568b-1fd3-47b4-b41c-122f53345981"
   },
   "outputs": [
    {
     "name": "stdout",
     "output_type": "stream",
     "text": [
      "Empty DataFrame\n",
      "Columns: [id, Date, TPond (°C), A (°C), D (°C), F (°C), H (°C), J (°C), K (°C), M (°C), O (°C), Q (°C), T (°C), wHR (bpm), cHR (bpm), wU (bpm), wT (°C)]\n",
      "Index: []\n"
     ]
    }
   ],
   "source": [
    "col_names = ['id', 'Date', 'TPond (°C)', 'A (°C)', 'D (°C)', 'F (°C)', 'H (°C)', 'J (°C)', 'K (°C)', 'M (°C)', 'O (°C)', 'Q (°C)',\t'T (°C)', 'wHR (bpm)', 'cHR (bpm)', 'wU (bpm)', 'wT (°C)']\n",
    "BaseDeDados = pd.DataFrame(columns=col_names)\n",
    "print(BaseDeDados)"
   ]
  },
  {
   "cell_type": "code",
   "execution_count": null,
   "metadata": {},
   "outputs": [],
   "source": [
    "# substituir if/elif/else por match case\n",
    "\n",
    "for arquivo in arquivos_csv:\n",
    "    ultimo_backslash = arquivo.rfind('\\\\')\n",
    "    ultimounderscore = arquivo.rfind('_')\n",
    "    titulo = arquivo[ultimo_backslash+1:ultimounderscore]\n",
    "    penultimo_backslash = arquivo.rfind('\\\\', 0, ultimo_backslash)\n",
    "    id = arquivo[penultimo_backslash+1:penultimo_backslash+3]\n",
    "    if \"Test+Room\" in titulo or any(name in titulo for name in nomes):\n",
    "        heart = pd.read_csv(arquivo).fillna('0')\n",
    "        if(heart.iloc[0,1] == \"OTHER_OUTDOOR\"):\n",
    "            Dia = heart.iloc[0,2]\n",
    "            HInicio = heart.iloc[0,3]\n",
    "            DataInicio = Dia + \" \" + HInicio\n",
    "            pulso = pd.read_csv(arquivo, usecols=[\"Time\",\"HR (bpm)\"], skiprows=2)\n",
    "            pulso['id'] = id\n",
    "            pulso = pulso.rename(columns={'Time': 'Date'})\n",
    "            pulso = pulso.rename(columns={'HR (bpm)': 'HR (bpm) W'})\n",
    "            # arrumar a data\n",
    "            BaseDeDados = pd.concat([BaseDeDados, pulso], ignore_index=True)\n",
    "        elif(heart.iloc[0,1] in sports):\n",
    "            Dia = heart.iloc[0,2]\n",
    "            HInicio = heart.iloc[0,3]\n",
    "            DataInicio = Dia + \" \" + HInicio\n",
    "            peito = pd.read_csv(arquivo, usecols=[\"Time\",\"HR (bpm)\"], skiprows=2)\n",
    "            peito['id'] = id\n",
    "            peito = peito.rename(columns={'Time': 'Date'})\n",
    "            peito = peito.rename(columns={'HR (bpm)': 'HR (bpm) C'})\n",
    "            # arrumar a data\n",
    "            BaseDeDados = pd.concat([BaseDeDados, peito], ignore_index=True)\n",
    "        elif(heart.iloc[0,1] == \"False\" or \"True\"):\n",
    "            continue\n",
    "        else:\n",
    "            print(heart.iloc[0,1])    \n",
    "    elif(\"_U\" in arquivo) or (\"_T\" in arquivo) or (any(titulo in valores for valores in relacao_tabela_informacao.values())):\n",
    "        colunas = [\"Date\", \"uni\", \"u\", \"d\"]\n",
    "        if(\"_T\" in arquivo):\n",
    "            # somar coluna de unidade de medica e valor\n",
    "            temp = pd.read_csv(arquivo, skiprows=20,names=colunas).fillna('0')\n",
    "            temp['id'] = id\n",
    "            temp['Temp'] = temp.apply(lambda row: convertepfloat(row), axis=1)\n",
    "            temp = temp.iloc[:, [0,1,-2,-1]]\n",
    "            temp['Date'] = pd.to_datetime(temp['Date'], format='%d/%m/%y %H:%M:%S')\n",
    "            BaseDeDados = pd.concat([BaseDeDados, temp],ignore_index=True)\n",
    "        elif(\"_U\" in arquivo):\n",
    "            # somar coluna de unidade de medica e valor\n",
    "            umid = pd.read_csv(arquivo, skiprows=20,names=colunas).fillna('0')\n",
    "            umid['id'] = id\n",
    "            umid['Umid'] = umid.apply(lambda row: convertepfloat(row), axis=1)\n",
    "            umid = umid.iloc[:, [0,1,-2,-1]]\n",
    "            umid['Date'] = pd.to_datetime(umid['Date'], format='%d/%m/%y %H:%M:%S')\n",
    "            BaseDeDados = pd.concat([BaseDeDados, umid],ignore_index=True)\n",
    "        else:\n",
    "            # somar coluna de unidade de medica e valor\n",
    "            # identificar qual sensor de pele é o arquivo\n",
    "            coluna = verifica_qual_tipo_de_csv(titulo)\n",
    "            temp = pd.read_csv(arquivo, skiprows=20,names=colunas).fillna('0')\n",
    "            temp[f'{coluna}'] = temp.apply(lambda row: convertepfloat(row), axis=1)\n",
    "            temp['id'] = id\n",
    "            temp = temp.iloc[:, [0,1,-2,-1]]\n",
    "            temp['Date'] = pd.to_datetime(temp['Date'], format='%d/%m/%y %H:%M:%S')\n",
    "            BaseDeDados = pd.concat([BaseDeDados, temp],ignore_index=True)\n",
    "    else:\n",
    "        print(titulo)\n",
    "    #print(\"match\")"
   ]
  },
  {
   "cell_type": "code",
   "execution_count": null,
   "metadata": {},
   "outputs": [],
   "source": [
    "BaseDeDados['TPond (°C)'] = BaseDeDados.apply(calcular_TPond, axis=1)"
   ]
  },
  {
   "cell_type": "code",
   "execution_count": 223,
   "metadata": {},
   "outputs": [],
   "source": [
    "BaseDeDados.to_csv('arquivo.csv', index=False)"
   ]
  }
 ],
 "metadata": {
  "colab": {
   "provenance": []
  },
  "kernelspec": {
   "display_name": "Python 3 (ipykernel)",
   "language": "python",
   "name": "python3"
  },
  "language_info": {
   "codemirror_mode": {
    "name": "ipython",
    "version": 3
   },
   "file_extension": ".py",
   "mimetype": "text/x-python",
   "name": "python",
   "nbconvert_exporter": "python",
   "pygments_lexer": "ipython3",
   "version": "3.11.5"
  }
 },
 "nbformat": 4,
 "nbformat_minor": 4
}
