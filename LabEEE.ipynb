{
 "cells": [
  {
   "cell_type": "markdown",
   "metadata": {
    "id": "04PmjXwf-Rwq"
   },
   "source": [
    "# Bibliotecas usadas"
   ]
  },
  {
   "cell_type": "code",
   "execution_count": 192,
   "metadata": {
    "id": "Q2tcc8yH-FpN"
   },
   "outputs": [],
   "source": [
    "import pandas as pd\n",
    "import glob\n",
    "import re\n",
    "from datetime import datetime, timedelta\n",
    "import numpy as np"
   ]
  },
  {
   "cell_type": "markdown",
   "metadata": {
    "id": "pauRK7Fl-Ybr"
   },
   "source": [
    "# Mashup bases \"fisiologicas\""
   ]
  },
  {
   "cell_type": "code",
   "execution_count": 220,
   "metadata": {
    "colab": {
     "base_uri": "https://localhost:8080/"
    },
    "id": "gAAhzRi7QHyS",
    "outputId": "26a198cd-5c10-417e-aad7-7930d5c9427e"
   },
   "outputs": [],
   "source": [
    "padrao_busca_csv = \"/Users/michi/Desktop/01. Outdoor-Indoor/01. LabEEE Experiments/**/*.csv\"\n",
    "padrao_busca_excel = \"/Users/michi/Desktop/01. Outdoor-Indoor/01. LabEEE Experiments/**/*.xlsx\"\n",
    "todos_arquivos = glob.glob(padrao_busca_csv, recursive=True) + glob.glob(padrao_busca_excel, recursive=True)\n",
    "# não ta pegando os xls\n",
    "\n",
    "ids = [\"IS\", \"LG\", \"LM\", \"MF\", \"TM\", \"ZM\", \"AW\", \"JF\", \"JP\", \"MN\", \"NC\", \"RM\"]\n",
    "nao = [\"01. Pilot LabEEE 20231114\", \"02. Pilot LabEEE 20231122\"]\n",
    "\n",
    "arquivos_fisiologicos = [arquivo for arquivo in todos_arquivos if any(sigla in arquivo for sigla in ids) and not any(nome in arquivo for nome in nao)]"
   ]
  },
  {
   "cell_type": "code",
   "execution_count": 194,
   "metadata": {},
   "outputs": [],
   "source": [
    "relacao_tabela_informacao = {\"A (°C)\" :\t[\"4B00000069A8E941\",\"FE00000069AF1041\",\"B600000069B23241\",\"7D00000069AB4641\",\"0F00000069AAAF41\",\"C400000069ADCC41\"],\n",
    "                            \"D (°C)\":\t[\"CB00000069AD3041\",\"9400000069AA4941\",\"2700000069AD8541\",\"C100000069B26141\",\"CA00000069B19041\",\"4A00000069AC0841\"],\n",
    "                            \"F (°C)\":\t[\"C400000069AA8341\",\"C400000069B3DB41\",\"8100000069AE1641\",\"2700000069AACA41\",\"6700000069AEFC41\",\"1C00000069B3F941\"], \n",
    "                            \"H (°C)\":\t[\"B200000069AE3141\",\"EC00000069A9CD41\",\"3300000069AC2241\",\"3600000069AAD741\",\"E800000069AAC041\",\"AD00000069AF4C41\"],\n",
    "                            \"J (°C)\":\t[\"FA00000069AD0441\",\"3400000069B1AE41\",\"C700000069B34D41\",\"4B00000069B0A841\",\"0600000069B22741\",\"9100000069AAEA41\",\"6700000069AB8141\"],\n",
    "                            \"K (°C)\":\t[\"FB00000069B28F41\",\"7B00000069AA6A41\",\"E500000069AA2F41\",\"1A00000069A9BF41\",\"FE00000069B10741\",\"E100000069AD4641\"],\n",
    "                            \"M (°C)\":\t[\"1B00000069B06241\",\"8C00000069ADD241\",\"F000000069AF6941\",\"AA00000069AA8141\",\"1600000069ABE741\",\"A000000069AEBA41\"],\n",
    "                            \"O (°C)\":\t[\"7600000069AA8541\",\"F200000069B16D41\",\"3000000069A9C941\",\"BF00000069AFC741\",\"A300000069B12241\",\"D900000069ACA241\"],\n",
    "                            \"Q (°C)\":\t[\"8600000069B0B141\",\"6000000069AB3141\",\"DB00000069A9CC41\",\"EF00000069B23141\",\"6900000069AE8541\",\"4300000069B3CF41\"],\n",
    "                            \"T (°C)\":\t[\"7600000069AB9C41\",\"4500000069B1C841\",\"6600000069B25C41\",\"A200000069B0BE41\",\"D700000069B3D541\",\"9800000069B26241\",\"9E00000069AE7241\"],\n",
    "                            \"T_RH\" : [\"6E0000006CB57E41\",\t\"590000006CB46641\",\t\"4B0000006CBA7341\",\t\"D30000006CBD4C41\",\t\"370000006341C241\",\t\"9C000000633F9F41\"]}\n",
    "\n",
    "nomes = [\"Zac\", \"Joao\", \"Igor\", \"Luis\", \"Milena\", \"Ana\", \"Marcela\", \"Nathalia\", \"Thalita\", \"Liege\", \"Rayner\", \"João\"]\n",
    "sports = [\"WALKING\",\"CYCLING\",\"CROSS-COUNTRY_SKIING\",\"SKATING\",\"RIDING\",\"ROWING\"]"
   ]
  },
  {
   "cell_type": "code",
   "execution_count": 195,
   "metadata": {},
   "outputs": [],
   "source": [
    "def verifica_qual_tipo_de_csv(titulo):\n",
    "    for chave, valores in relacao_tabela_informacao.items():\n",
    "        if titulo in valores:\n",
    "            return chave\n",
    "\n",
    "def convertepfloat(row):\n",
    "    n1 = str(row.iloc[2]).replace('.', '')\n",
    "    n2 = str(row.iloc[3]).replace('.', '')\n",
    "    return float(n1 + '.' + n2)\n",
    "\n",
    "def datamento(base_de_dados_crua, base_de_dados_nova):\n",
    "    dia = base_de_dados_crua.iloc[0,2]\n",
    "    dia = dia.replace('-','/')\n",
    "    hora_inicio = base_de_dados_crua.iloc[0,3]\n",
    "    data_inicio = dia + \" \" + hora_inicio\n",
    "    data_inicio = datetime.strptime(data_inicio, '%d/%m/%Y %H:%M:%S')\n",
    "    data_fim = dia + ' ' + '20:00:00'\n",
    "    data_fim = datetime.strptime(data_fim, '%d/%m/%Y %H:%M:%S')\n",
    "    intervalos_tempo = pd.date_range(start=data_inicio, end=data_fim, freq='s')\n",
    "    base_de_dados_nova['Date'] = intervalos_tempo[:len(base_de_dados_nova)]\n",
    "\n",
    "def limpeza_simples(id, arquivo, coluna):\n",
    "    colunas = [\"Date\", \"uni\", \"u\", \"d\"]\n",
    "    dados = pd.read_csv(arquivo, skiprows=20,names=colunas).fillna('0')\n",
    "    dados['id'] = id\n",
    "    dados[f'{coluna}'] = dados.apply(lambda row: convertepfloat(row), axis=1)\n",
    "    dados = dados.iloc[:, [0,-2,-1]]\n",
    "    dados['Date'] = pd.to_datetime(dados['Date'], format='%d/%m/%y %H:%M:%S')\n",
    "    return dados\n",
    "\n",
    "def calcular_TPond(row):\n",
    "    if all(row[['A (°C)', 'D (°C)', 'F (°C)', 'H (°C)', 'J (°C)', 'K (°C)', 'M (°C)', 'O (°C)', 'Q (°C)', 'T (°C)']].notnull()):\n",
    "        return float(0.07 * row['T (°C)'] + 0.13 * row['Q (°C)'] + 0.19 * row['O (°C)'] + 0.12 * row['M (°C)'] + 0.12 * row['K (°C)'] + 0.12 * row['J (°C)'] + 0.05 * row['H (°C)'] + 0.06 * row['F (°C)'] + 0.08 * row['D (°C)'] + 0.06 * row['A (°C)'])\n",
    "    else:\n",
    "        return None"
   ]
  },
  {
   "cell_type": "code",
   "execution_count": 196,
   "metadata": {
    "colab": {
     "base_uri": "https://localhost:8080/"
    },
    "id": "FY756p1DAJs9",
    "outputId": "b8de568b-1fd3-47b4-b41c-122f53345981"
   },
   "outputs": [],
   "source": [
    "col_names = ['id', 'Date', 'TPond (°C)', 'A (°C)', 'D (°C)', 'F (°C)', 'H (°C)', 'J (°C)', 'K (°C)', 'M (°C)', 'O (°C)', 'Q (°C)',\t'T (°C)', 'wHR (bpm)', 'cHR (bpm)', 'wU (bpm)', 'wT (°C)']\n",
    "BaseDeDados = pd.DataFrame(columns=col_names)"
   ]
  },
  {
   "cell_type": "code",
   "execution_count": 197,
   "metadata": {},
   "outputs": [],
   "source": [
    "for arquivo in arquivos_fisiologicos:\n",
    "    ultimo_backslash = arquivo.rfind('\\\\')\n",
    "    ultimounderscore = arquivo.rfind('_')\n",
    "    titulo = arquivo[ultimo_backslash+1:ultimounderscore]\n",
    "    penultimo_backslash = arquivo.rfind('\\\\', 0, ultimo_backslash)\n",
    "    id = arquivo[penultimo_backslash+1:penultimo_backslash+3]\n",
    "    if \"Test+Room\" in titulo or any(name in titulo for name in nomes):\n",
    "        heart = pd.read_csv(arquivo).fillna('0')\n",
    "        if(heart.iloc[0,1] == \"OTHER_OUTDOOR\"):\n",
    "            pulso = pd.read_csv(arquivo, usecols=[\"HR (bpm)\"], skiprows=2)\n",
    "            pulso['id'] = id\n",
    "            datamento(heart,pulso)\n",
    "            pulso = pulso.rename(columns={'HR (bpm)': 'wHR (bpm)'})\n",
    "            BaseDeDados = pd.concat([BaseDeDados, pulso], ignore_index=True)\n",
    "        elif(heart.iloc[0,1] in sports):\n",
    "            peito = pd.read_csv(arquivo, usecols=[\"HR (bpm)\"], skiprows=2)\n",
    "            datamento(heart,peito)\n",
    "            peito['id'] = id\n",
    "            peito = peito.rename(columns={'HR (bpm)': 'cHR (bpm)'})\n",
    "            BaseDeDados = pd.concat([BaseDeDados, peito], ignore_index=True)\n",
    "        elif(heart.iloc[0,1] == \"False\" or \"True\"):\n",
    "            continue\n",
    "        else:\n",
    "            print(heart.iloc[0,1])    \n",
    "    elif(\"_U\" in arquivo) or (\"_T\" in arquivo) or (any(titulo in valores for valores in relacao_tabela_informacao.values())):\n",
    "        colunas = [\"Date\", \"uni\", \"u\", \"d\"]\n",
    "        if(\"_T\" in arquivo):\n",
    "            coluna = 'wT (°C)'\n",
    "            temp = limpeza_simples(id, arquivo, coluna)\n",
    "            BaseDeDados = pd.concat([BaseDeDados, temp],ignore_index=True)\n",
    "        elif(\"_U\" in arquivo):\n",
    "            coluna = 'wU (bpm)'\n",
    "            umid = limpeza_simples(id, arquivo, coluna)\n",
    "            BaseDeDados = pd.concat([BaseDeDados, umid],ignore_index=True)\n",
    "        else:\n",
    "            coluna = verifica_qual_tipo_de_csv(titulo)\n",
    "            temp = limpeza_simples(id, arquivo, coluna)\n",
    "            BaseDeDados = pd.concat([BaseDeDados, temp],ignore_index=True)\n",
    "    else:\n",
    "        print(titulo)"
   ]
  },
  {
   "cell_type": "code",
   "execution_count": 200,
   "metadata": {},
   "outputs": [],
   "source": [
    "BaseDeDados = BaseDeDados.groupby(['id', 'Date']).agg('mean').reset_index()"
   ]
  },
  {
   "cell_type": "code",
   "execution_count": 202,
   "metadata": {},
   "outputs": [],
   "source": [
    "BaseDeDados['TPond (°C)'] = BaseDeDados.apply(calcular_TPond, axis=1)"
   ]
  },
  {
   "cell_type": "code",
   "execution_count": 205,
   "metadata": {},
   "outputs": [],
   "source": [
    "BaseDeDados.to_csv('BaseDeDados.csv', index=False, encoding='utf-8')"
   ]
  },
  {
   "cell_type": "markdown",
   "metadata": {},
   "source": [
    "# Mashup ambientais + \"fisiologicas\""
   ]
  },
  {
   "cell_type": "code",
   "execution_count": 236,
   "metadata": {},
   "outputs": [],
   "source": [
    "siglas_ambientais = ['CSLAB','CSSR','HALL','OUT','TtSR']\n",
    "arquivos_ambientais = [arquivo for arquivo in todos_arquivos if any(sigla in arquivo for sigla in siglas_ambientais)]"
   ]
  },
  {
   "cell_type": "code",
   "execution_count": 250,
   "metadata": {},
   "outputs": [],
   "source": [
    "def rename_cols(df, tipo):\n",
    "    df = df.rename(columns={'Data;': f'{tipo} Date'})"
   ]
  },
  {
   "cell_type": "code",
   "execution_count": 251,
   "metadata": {},
   "outputs": [
    {
     "name": "stdout",
     "output_type": "stream",
     "text": [
      "    Data; T_ar; T_Globo; UR; Veloc_1; Veloc_2; Veloc_3\n",
      "0     16/01/2023 08:25;26.26;26.55;60.33;0.8;0.59;0.78\n",
      "1    16/01/2023 08:26;26.35;26.75;61.42;0.31;0.17;0.24\n",
      "2    16/01/2023 08:27;26.48;26.89;62.27;0.24;0.11;0.19\n",
      "3     16/01/2023 08:28;26.49;27.03;61.5;0.17;0.08;0.19\n",
      "4     16/01/2023 08:29;26.36;27.08;62.35;0.18;0.07;0.2\n",
      "..                                                 ...\n",
      "426  16/01/2023 15:31;25.68;26.37;58.36;0.21;0.08;0.14\n",
      "427    16/01/2023 15:32;25.6;26.33;58.3;0.25;0.14;0.21\n",
      "428  16/01/2023 15:33;25.42;26.31;58.41;0.25;0.08;0.13\n",
      "429   16/01/2023 15:34;25.61;26.31;58.04;0.2;0.08;0.14\n",
      "430   16/01/2023 15:35;25.6;26.24;57.64;0.24;0.13;0.23\n",
      "\n",
      "[431 rows x 1 columns]\n",
      "    Data; T_ar; T_Globo; UR; Veloc_1; Veloc_2; Veloc_3\n",
      "0    17/01/2024 09:35;  25.60; 26.34; 65.52; 0.98; ...\n",
      "1    17/01/2024 09:36;  25.64; 26.37; 65.43; 0.27; ...\n",
      "2    17/01/2024 09:37;  25.57; 26.38; 65.33; 0.21; ...\n",
      "3    17/01/2024 09:38;  25.54; 26.29; 65.00; 0.18; ...\n",
      "4    17/01/2024 09:39;  25.39; 26.19; 64.85; 0.20; ...\n",
      "..                                                 ...\n",
      "412  17/01/2024 16:27;  25.57; 26.14; 61.48; 0.17; ...\n",
      "413  17/01/2024 16:28;  25.46; 26.00; 61.66; 0.18; ...\n",
      "414  17/01/2024 16:29;  25.20; 25.82; 62.34; 0.21; ...\n",
      "415  17/01/2024 16:30;  24.93; 25.59; 63.41; 0.24; ...\n",
      "416  17/01/2024 16:31;  24.90; 25.52; 64.00; 0.19; ...\n",
      "\n",
      "[417 rows x 1 columns]\n",
      "    Data; T_ar; T_Globo; UR; Veloc_1; Veloc_2; Veloc_3\n",
      "0    22/01/2024 07:35;25.69;26.04;67.17;0.96;0.69;0.92\n",
      "1     22/01/2024 07:36;25.28;25.88;68.4;0.24;0.15;0.16\n",
      "2     22/01/2024 07:37;25.19;25.7;68.35;0.17;0.11;0.11\n",
      "3      22/01/2024 07:38;24.83;25.48;68.27;0.16;0.1;0.2\n",
      "4      22/01/2024 07:39;24.6;25.28;68.4;0.16;0.08;0.17\n",
      "..                                                 ...\n",
      "471  22/01/2024 15:26;24.77;25.36;60.26;0.08;0.17;0.12\n",
      "472   22/01/2024 15:27;24.81;25.38;59.84;0.1;0.13;0.13\n",
      "473  22/01/2024 15:28;24.84;25.47;59.68;0.12;0.13;0.12\n",
      "474  22/01/2024 15:29;24.99;25.56;59.58;0.15;0.12;0.15\n",
      "475  22/01/2024 15:30;25.14;25.63;59.46;0.15;0.11;0.16\n",
      "\n",
      "[476 rows x 1 columns]\n",
      "    Data; T_ar; T_Globo; UR; Veloc_1; Veloc_2; Veloc_3\n",
      "0    23/01/2024 08:10;24.74;25.24;60.69;0.97;0.77;1.08\n",
      "1     23/01/2024 08:11;24.42;24.92;62.1;0.26;0.25;0.32\n",
      "2     23/01/2024 08:12;24.43;24.7;62.12;0.21;0.22;0.32\n",
      "3     23/01/2024 08:13;24.3;24.57;62.49;0.15;0.15;0.28\n",
      "4     23/01/2024 08:14;24.27;24.47;62.8;0.15;0.17;0.33\n",
      "..                                                 ...\n",
      "436  23/01/2024 15:25;25.27;26.17;58.54;0.11;0.12;0.17\n",
      "437  23/01/2024 15:26;25.29;26.14;58.15;0.15;0.14;0.22\n",
      "438   23/01/2024 15:27;25.09;25.95;58.4;0.14;0.11;0.16\n",
      "439  23/01/2024 15:28;24.97;25.76;58.38;0.15;0.11;0.13\n",
      "440  23/01/2024 15:29;24.96;25.68;58.44;0.15;0.08;0.17\n",
      "\n",
      "[441 rows x 1 columns]\n",
      "   Data; T_ar; T_Globo; UR; Veloc_1; Veloc_2; Veloc_3;;\n",
      "0   30/01/2024 08:30;  25.25; 25.49; 71.66; 0.41; ...  \n",
      "1   30/01/2024 08:35;  25.78; 26.03; 73.61; 0.26; ...  \n",
      "2   30/01/2024 08:40;  26.09; 26.35; 73.28; 0.25; ...  \n",
      "3   30/01/2024 08:45;  25.42; 26.02; 72.03; 0.27; ...  \n",
      "4   30/01/2024 08:50;  24.80; 25.45; 70.41; 0.22; ...  \n",
      "..                                                ...  \n",
      "82  30/01/2024 15:20;  25.81; 26.19; 71.74; 0.18; ...  \n",
      "83  30/01/2024 15:25;  26.23; 26.72; 72.38; 0.15; ...  \n",
      "84  30/01/2024 15:30;  25.40; 26.06; 69.85; 0.23; ...  \n",
      "85  30/01/2024 15:35;  24.12; 24.65; 66.70; 0.19; ...  \n",
      "86  30/01/2024 15:40;  23.60; 24.09; 65.95; 0.14; ...  \n",
      "\n",
      "[87 rows x 1 columns]\n",
      "                 Data   T_ar   T_Globo     UR   Veloc_1   Veloc_2   Veloc_3\n",
      "0    31/01/2024 09:04  24.63     24.85  67.10      0.85      0.73      1.02\n",
      "1    31/01/2024 09:05  24.58     24.85  67.44      0.22      0.23      0.30\n",
      "2    31/01/2024 09:06  24.64     24.82  67.55      0.20      0.24      0.35\n",
      "3    31/01/2024 09:07  24.68     24.84  67.24      0.19      0.23      0.32\n",
      "4    31/01/2024 09:08  24.59     24.84  67.60      0.15      0.19      0.32\n",
      "..                ...    ...       ...    ...       ...       ...       ...\n",
      "418  31/01/2024 16:01  26.97     27.53  68.63      0.17      0.07      0.30\n",
      "419  31/01/2024 16:02  27.01     27.58  68.39      0.16      0.17      0.51\n",
      "420  31/01/2024 16:03  27.10     27.60  68.15      0.22      0.15      0.48\n",
      "421  31/01/2024 16:04  27.16     27.63  67.96      0.20      0.15      0.50\n",
      "422  31/01/2024 16:05  27.14     27.65  68.04      0.22      0.17      0.48\n",
      "\n",
      "[423 rows x 7 columns]\n",
      "    Data; T_ar; T_Globo; UR; Veloc_1; Veloc_2; Veloc_3\n",
      "0    07/02/2024 08:24;  25.55; 26.09; 66.32; 1.03; ...\n",
      "1    07/02/2024 08:25;  25.35; 26.06; 66.82; 0.29; ...\n",
      "2    07/02/2024 08:26;  25.23; 25.96; 67.03; 0.25; ...\n",
      "3    07/02/2024 08:27;  25.15; 25.87; 66.94; 0.24; ...\n",
      "4    07/02/2024 08:28;  25.16; 25.79; 66.73; 0.24; ...\n",
      "..                                                 ...\n",
      "417  07/02/2024 15:21;  25.31; 25.67; 61.82; 0.24; ...\n",
      "418  07/02/2024 15:22;  25.26; 25.59; 62.10; 0.18; ...\n",
      "419  07/02/2024 15:23;  25.30; 25.57; 61.96; 0.17; ...\n",
      "420  07/02/2024 15:24;  25.04; 25.52; 61.96; 0.22; ...\n",
      "421  07/02/2024 15:25;  25.06; 25.45; 61.66; 0.18; ...\n",
      "\n",
      "[422 rows x 1 columns]\n"
     ]
    }
   ],
   "source": [
    "for arquivo in arquivos_ambientais:\n",
    "    ultimo_backslash = arquivo.rfind('\\\\')\n",
    "    ultima_coma = arquivo.rfind('_')\n",
    "    titulo = arquivo[ultimo_backslash+1:ultima_coma]\n",
    "    if 'CSLAB' in titulo:\n",
    "        CSLAB = pd.read_csv(arquivo)\n",
    "        rename_cols(CSLAB, 'CSLAB')\n",
    "        print(CSLAB)\n",
    "    elif 'CSSR' in titulo:\n",
    "        continue\n",
    "    elif 'HALL' in titulo:\n",
    "        continue\n",
    "    elif 'OUT' in titulo:\n",
    "        continue\n",
    "    elif 'TtSR' in titulo:\n",
    "        continue\n",
    "    else:\n",
    "        print(f'Arquivo não identificado: {titulo}')"
   ]
  },
  {
   "cell_type": "markdown",
   "metadata": {},
   "source": [
    "# Mashup forms + \"ambientais/fisiologicos\""
   ]
  },
  {
   "cell_type": "code",
   "execution_count": 227,
   "metadata": {},
   "outputs": [
    {
     "data": {
      "text/plain": [
       "['/Users/michi/Desktop/01. Outdoor-Indoor/01. LabEEE Experiments\\\\Probral-Survey-v02 (Portuguese) (respostas) - Respostas ao formulário 1.csv',\n",
       " '/Users/michi/Desktop/01. Outdoor-Indoor/01. LabEEE Experiments\\\\03. LabEEE A1 20240116\\\\00 DATA\\\\Probral-Survey-v02 (Portuguese) (respostas) - Respostas ao formulário 1.csv',\n",
       " '/Users/michi/Desktop/01. Outdoor-Indoor/01. LabEEE Experiments\\\\Probral-Survey-v02 (Portuguese) (respostas).xlsx',\n",
       " '/Users/michi/Desktop/01. Outdoor-Indoor/01. LabEEE Experiments\\\\02. Pilot LabEEE 20231122\\\\00 DATA\\\\20231122-Probral-Survey-v01 (Portuguese) (respostas).xlsx',\n",
       " '/Users/michi/Desktop/01. Outdoor-Indoor/01. LabEEE Experiments\\\\03. LabEEE A1 20240116\\\\00 DATA\\\\Probral-Survey-v02 (Portuguese) (respostas).xlsx',\n",
       " '/Users/michi/Desktop/01. Outdoor-Indoor/01. LabEEE Experiments\\\\04. LabEEE B1 20240117\\\\00 DATA\\\\Probral-Survey-v02 (Portuguese) (respostas).xlsx',\n",
       " '/Users/michi/Desktop/01. Outdoor-Indoor/01. LabEEE Experiments\\\\05. LabEEE B2 20240122\\\\00 DATA\\\\Probral-Survey-v02 (Portuguese) (respostas).xlsx',\n",
       " '/Users/michi/Desktop/01. Outdoor-Indoor/01. LabEEE Experiments\\\\06. LabEEE A2 20240123\\\\00 DATA\\\\Probral-Survey-v02 (Portuguese) (respostas).xlsx',\n",
       " '/Users/michi/Desktop/01. Outdoor-Indoor/01. LabEEE Experiments\\\\07. LabEEE A3 20240130\\\\00 DATA\\\\Probral-Survey-v02 (Portuguese) (respostas).xlsx',\n",
       " '/Users/michi/Desktop/01. Outdoor-Indoor/01. LabEEE Experiments\\\\08. LabEEE B3 20240131\\\\00 DATA\\\\Probral-Survey-v02 (Portuguese) (respostas) - 20240131.xlsx']"
      ]
     },
     "execution_count": 227,
     "metadata": {},
     "output_type": "execute_result"
    }
   ],
   "source": [
    "arquivos_forms = [arquivo for arquivo in todos_arquivos if('Probral-Survey' in arquivo)]\n",
    "arquivos_forms"
   ]
  }
 ],
 "metadata": {
  "colab": {
   "provenance": []
  },
  "kernelspec": {
   "display_name": "Python 3 (ipykernel)",
   "language": "python",
   "name": "python3"
  },
  "language_info": {
   "codemirror_mode": {
    "name": "ipython",
    "version": 3
   },
   "file_extension": ".py",
   "mimetype": "text/x-python",
   "name": "python",
   "nbconvert_exporter": "python",
   "pygments_lexer": "ipython3",
   "version": "3.11.8"
  }
 },
 "nbformat": 4,
 "nbformat_minor": 4
}
